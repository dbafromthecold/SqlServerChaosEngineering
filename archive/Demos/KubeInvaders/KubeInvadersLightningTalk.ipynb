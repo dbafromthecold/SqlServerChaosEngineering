{
    "metadata": {
        "kernelspec": {
            "name": "powershell",
            "display_name": "PowerShell"
        },
        "language_info": {
            "name": "powershell",
            "codemirror_mode": "shell",
            "mimetype": "text/x-sh",
            "file_extension": ".ps1"
        }
    },
    "nbformat_minor": 2,
    "nbformat": 4,
    "cells": [
        {
            "cell_type": "markdown",
            "source": [
                "<pre>\r\n",
                "  ____   ___  _       ____                              ____ _                       _____             _                      _             \r\n",
                " / ___| / _ \\| |     / ___|  ___ _ ____   _____ _ __   / ___| |__   __ _  ___  ___  | ____|_ __   __ _(_)_ __   ___  ___ _ __(_)_ __   __ _ \r\n",
                " \\___ \\| | | | |     \\___ \\ / _ \\ '__\\ \\ / / _ \\ '__| | |   | '_ \\ / _` |/ _ \\/ __| |  _| | '_ \\ / _` | | '_ \\ / _ \\/ _ \\ '__| | '_ \\ / _` |\r\n",
                "  ___) | |_| | |___   ___) |  __/ |   \\ V /  __/ |    | |___| | | | (_| | (_) \\__ \\ | |___| | | | (_| | | | | |  __/  __/ |  | | | | | (_| |\r\n",
                " |____/ \\__\\_\\_____| |____/ \\___|_|    \\_/ \\___|_|     \\____|_| |_|\\__,_|\\___/|___/ |_____|_| |_|\\__, |_|_| |_|\\___|\\___|_|  |_|_| |_|\\__, |\r\n",
                "                                                                                                 |___/                                |___/ \r\n",
                "</pre>"
            ],
            "metadata": {
                "azdata_cell_guid": "a533640e-243e-4206-a63e-438fd74059d4"
            }
        },
        {
            "cell_type": "markdown",
            "source": [
                "## Switch context to local cluster"
            ],
            "metadata": {
                "azdata_cell_guid": "01e682d8-3f9c-4875-bc76-af66e31925c1"
            }
        },
        {
            "cell_type": "code",
            "source": [
                "kubectl config use-context docker-desktop"
            ],
            "metadata": {
                "azdata_cell_guid": "08f04103-b97e-43ce-91dc-eaff97323c02"
            },
            "outputs": [],
            "execution_count": null
        },
        {
            "cell_type": "markdown",
            "source": [
                "## View nodes"
            ],
            "metadata": {
                "azdata_cell_guid": "ba5277ca-fbb8-4b08-b8e1-61017dbce4ba"
            }
        },
        {
            "cell_type": "code",
            "source": [
                "kubectl get nodes"
            ],
            "metadata": {
                "azdata_cell_guid": "643f467d-77e8-4f75-ba74-4338784d4e53"
            },
            "outputs": [],
            "execution_count": null
        },
        {
            "cell_type": "markdown",
            "source": [
                "## Deploy pod and expose deployment"
            ],
            "metadata": {
                "azdata_cell_guid": "9b1ef041-47db-40cf-9480-2dc9b8b6e82f"
            }
        },
        {
            "cell_type": "code",
            "source": [
                "kubectl run sqlserver `\r\n",
                "--image=mcr.microsoft.com/mssql/server:2019-GDR1-ubuntu-16.04 `\r\n",
                "--env ACCEPT_EULA=Y --env SA_PASSWORD=Testing1122\r\n",
                "\r\n",
                "kubectl expose deployment sqlserver --type=LoadBalancer --port=1433 --target-port=1433"
            ],
            "metadata": {
                "azdata_cell_guid": "c5b1b336-2d8d-486d-bc68-8bb969d86208"
            },
            "outputs": [],
            "execution_count": null
        },
        {
            "cell_type": "markdown",
            "source": [
                "## View deployment, pod, and service"
            ],
            "metadata": {
                "azdata_cell_guid": "319ff8ce-ebc8-468b-ab9d-a5cfa3dbd3c2"
            }
        },
        {
            "cell_type": "code",
            "source": [
                "kubectl get deployments\r\n",
                "\r\n",
                "\r\n",
                "kubectl get pods\r\n",
                "\r\n",
                "\r\n",
                "kubectl get service"
            ],
            "metadata": {
                "azdata_cell_guid": "ac17e880-09b4-452d-9af3-6dd0e0bd49e3"
            },
            "outputs": [],
            "execution_count": null
        },
        {
            "cell_type": "markdown",
            "source": [
                "## View pod IP"
            ],
            "metadata": {
                "azdata_cell_guid": "56426014-56fe-4bed-a239-8fd280c0c6a3"
            }
        },
        {
            "cell_type": "code",
            "source": [
                "kubectl get pods -o wide"
            ],
            "metadata": {
                "azdata_cell_guid": "f2595b6c-8c7e-4835-af2d-c8e4a0f3f1c8"
            },
            "outputs": [],
            "execution_count": null
        },
        {
            "cell_type": "markdown",
            "source": [
                "## Delete pod"
            ],
            "metadata": {
                "azdata_cell_guid": "40b3f901-b519-49ce-81be-e3aeada61802"
            }
        },
        {
            "cell_type": "code",
            "source": [
                "$PODNAME=$(kubectl get pods --no-headers -o custom-columns=\":metadata.name\")\r\n",
                "kubectl delete pod $PODNAME"
            ],
            "metadata": {
                "azdata_cell_guid": "5a01e260-cb3f-4976-9eac-486882284f50"
            },
            "outputs": [],
            "execution_count": null
        },
        {
            "cell_type": "markdown",
            "source": [
                "## View new pod's IP and service"
            ],
            "metadata": {
                "azdata_cell_guid": "0375938d-4ece-42a5-b94b-dca07923efc7"
            }
        },
        {
            "cell_type": "code",
            "source": [
                "kubectl get pods -o wide\r\n",
                "\r\n",
                "\r\n",
                "kubectl get service"
            ],
            "metadata": {
                "azdata_cell_guid": "61997dda-b6c6-4a67-b934-062b843b27b6"
            },
            "outputs": [],
            "execution_count": null
        },
        {
            "cell_type": "markdown",
            "source": [
                "## Clean up locally"
            ],
            "metadata": {
                "azdata_cell_guid": "42b5e0fe-467e-4d74-8a4f-261979aa1ede"
            }
        },
        {
            "cell_type": "code",
            "source": [
                "kubectl delete deployment sqlserver\r\n",
                "\r\n",
                "kubectl delete service sqlserver"
            ],
            "metadata": {
                "azdata_cell_guid": "d99c0ef4-7e1d-44fd-bfbf-f5a955c49f1f"
            },
            "outputs": [],
            "execution_count": null
        },
        {
            "cell_type": "markdown",
            "source": [
                "## Switch context to remote cluster"
            ],
            "metadata": {
                "azdata_cell_guid": "a14e07a0-9390-4133-8c0a-bdc3069a2d43"
            }
        },
        {
            "cell_type": "code",
            "source": [
                "kubectl config use-context SQLK8sCluster2"
            ],
            "metadata": {
                "azdata_cell_guid": "c1aa8a7f-c73d-420a-b4dc-0279deda9a41"
            },
            "outputs": [],
            "execution_count": null
        },
        {
            "cell_type": "markdown",
            "source": [
                "## Run pods for KubeInvaders"
            ],
            "metadata": {
                "azdata_cell_guid": "79622c14-c56c-4d3e-99aa-6bc2c4485c87"
            }
        },
        {
            "cell_type": "code",
            "source": [
                "kubectl run sqlserver `\r\n",
                "--image=mcr.microsoft.com/mssql/server:2019-GDR1-ubuntu-16.04 `\r\n",
                "--replicas 10 `\r\n",
                "--env ACCEPT_EULA=Y --env SA_PASSWORD=Testing1122 `\r\n",
                "--namespace foobar"
            ],
            "metadata": {
                "azdata_cell_guid": "22f5449a-9999-47d7-b47d-7dfeb4d8ea12"
            },
            "outputs": [],
            "execution_count": null
        },
        {
            "cell_type": "markdown",
            "source": [
                "## View pods"
            ],
            "metadata": {
                "azdata_cell_guid": "87029d52-9d30-4c1c-94c3-7cf0332d7ee5"
            }
        },
        {
            "cell_type": "code",
            "source": [
                "kubectl get pods -o wide -n foobar"
            ],
            "metadata": {
                "azdata_cell_guid": "bf06ced9-13bc-4439-923b-aadff0abfbf7"
            },
            "outputs": [],
            "execution_count": null
        },
        {
            "cell_type": "markdown",
            "source": [
                "## Watch pods"
            ],
            "metadata": {
                "azdata_cell_guid": "fa710108-2eb5-43ac-b025-cfb0bc409dbb"
            }
        },
        {
            "cell_type": "code",
            "source": [
                "kubectl get pods -n foobar --watch"
            ],
            "metadata": {
                "azdata_cell_guid": "0bcd92d2-1cbd-452d-8b1c-5d686f2bcf63"
            },
            "outputs": [],
            "execution_count": null
        },
        {
            "cell_type": "markdown",
            "source": [
                "## Clean up"
            ],
            "metadata": {
                "azdata_cell_guid": "d40f0e6a-75aa-4a2c-996b-2042511d3454"
            }
        },
        {
            "cell_type": "code",
            "source": [
                "kubectl delete deployment sqlserver -n foobar"
            ],
            "metadata": {
                "azdata_cell_guid": "678260fb-a4c7-4965-a766-c11f6ca37d84"
            },
            "outputs": [],
            "execution_count": null
        }
    ]
}